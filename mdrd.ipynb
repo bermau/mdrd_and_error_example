{
 "cells": [
  {
   "cell_type": "markdown",
   "metadata": {},
   "source": [
    "# MDRD\n"
   ]
  },
  {
   "cell_type": "markdown",
   "metadata": {},
   "source": [
    "Ci dessous je crée une fonction qui me renvoie le MDRD (une formule permettant d'estimer la fonction rénale d'un individu). Cette formule dépend de la créatinine, du sexe, de l'âge. \n",
    "Quand on dit que le patient a 120 µmole/litre de créatinine, cela veut dire qu'il à entre 119,51 et 120.50, soit 120 +/- 0.5. \n",
    "Quand on dit que le patient a 60 ans, cela veux dire qu'il a entre 60 et 61 ans. soit 60 +.5 +/- .5 \n",
    "Je veux voir l'impact de ces petites fluctuations sur la sortie.\n",
    "\n",
    "Dans cette page, j'ai crée une fonction mdrd qui fait le calcul et une fonction multi_mdrd, qui fait plusieurs tests et renvoie le min et le max. \n",
    "\n",
    "Note : dans cette page je ne traite pas des erreurs liées à l'analyse elle même."
   ]
  },
  {
   "cell_type": "code",
   "execution_count": 45,
   "metadata": {
    "collapsed": false
   },
   "outputs": [],
   "source": [
    "from  math import pow \n",
    "import doctest"
   ]
  },
  {
   "cell_type": "code",
   "execution_count": 46,
   "metadata": {
    "collapsed": true
   },
   "outputs": [],
   "source": [
    "default_meth = 'non IDMS' # other : 'IDMS'"
   ]
  },
  {
   "cell_type": "code",
   "execution_count": 47,
   "metadata": {
    "collapsed": false
   },
   "outputs": [
    {
     "data": {
      "text/plain": [
       "TestResults(failed=0, attempted=1)"
      ]
     },
     "execution_count": 47,
     "metadata": {},
     "output_type": "execute_result"
    }
   ],
   "source": [
    "def mdrd(creat, age, sexe='M', meth=default_meth):\n",
    "    \"\"\"return MDRD result\n",
    "    \n",
    "    >>> round(mdrd(117, 49.1), 4)\n",
    "    61.1565\n",
    "    \"\"\"\n",
    "    if meth == 'IDMS':\n",
    "        coef = 175\n",
    "    else:\n",
    "        coef = 186.3\n",
    "    result = 0\n",
    "    def common():\n",
    "        return coef * pow(creat / 88.4, -1.154) * pow(age, -0.203)\n",
    "    if sexe == 'M':\n",
    "        result = common()\n",
    "                    \n",
    "    elif sexe == 'F':\n",
    "        result = common() *  0.742\n",
    "        pass\n",
    "    else:\n",
    "        return None\n",
    "    return result\n",
    "\n",
    "doctest.testmod()"
   ]
  },
  {
   "cell_type": "markdown",
   "metadata": {},
   "source": [
    "## Quelques exemples d'utilisation de la fonction mdrd."
   ]
  },
  {
   "cell_type": "code",
   "execution_count": 48,
   "metadata": {
    "collapsed": false
   },
   "outputs": [
    {
     "data": {
      "text/plain": [
       "45.37813540082289"
      ]
     },
     "execution_count": 48,
     "metadata": {},
     "output_type": "execute_result"
    }
   ],
   "source": [
    "mdrd(117, 49.1, sexe = 'F')"
   ]
  },
  {
   "cell_type": "code",
   "execution_count": 49,
   "metadata": {
    "collapsed": false
   },
   "outputs": [
    {
     "data": {
      "text/plain": [
       "61.156516712699315"
      ]
     },
     "execution_count": 49,
     "metadata": {},
     "output_type": "execute_result"
    }
   ],
   "source": [
    "mdrd(117, 49.1, sexe = 'M', meth = '')"
   ]
  },
  {
   "cell_type": "markdown",
   "metadata": {},
   "source": [
    "## Une fonction pour tester plusieurs valeurs à la fois "
   ]
  },
  {
   "cell_type": "code",
   "execution_count": 50,
   "metadata": {
    "collapsed": true
   },
   "outputs": [],
   "source": [
    "def multi_mdrd(creat, age, sexe, meth=default_meth):\n",
    "    \"\"\"Calcul une sorte d'interval de confiance en tenant compte des arrondis possibles de données entrées.\n",
    "    \n",
    "Quand on importe des données, elles peuvent être arrondies. Par exemple, une créatine à 117 peut \n",
    "provenir d'une valeur initiale à 116.8 ou à 117.5.\n",
    "    \"\"\"\n",
    "    lst = [mdrd(creat, age, sexe=sexe, meth=meth),\n",
    "           mdrd(creat+0.5, age, sexe=sexe, meth=meth),\n",
    "           mdrd(creat-0.5, age, sexe=sexe, meth=meth),\n",
    "           mdrd(creat+0.5, age+1, sexe=sexe, meth=meth),\n",
    "           mdrd(creat-0.5, age+1, sexe=sexe, meth=meth)           \n",
    "          ]\n",
    "    print(lst)\n",
    "    mini = min(lst)\n",
    "    maxi = max(lst)\n",
    "    print (\"min - max : {:.2f} - {:.2f}\".format(mini, maxi))    \n",
    "    "
   ]
  },
  {
   "cell_type": "code",
   "execution_count": 51,
   "metadata": {
    "collapsed": false
   },
   "outputs": [
    {
     "name": "stdout",
     "output_type": "stream",
     "text": [
      "[109.6185420681512, 108.367026359238, 110.89730880873964, 108.09409375563303, 110.61800344950966]\n",
      "min - max : 108.09 - 110.90\n"
     ]
    }
   ],
   "source": [
    "multi_mdrd(50,80, sexe = 'F')"
   ]
  },
  {
   "cell_type": "markdown",
   "metadata": {},
   "source": [
    "Ci dessus, on voit que selon le type d'affichage et d'arrondi des données entrées, pour une valeur de créatinine de 50, un âge de 80 chez une femme, le résultat varie entre 108.09 et 110.90.\n"
   ]
  },
  {
   "cell_type": "markdown",
   "metadata": {},
   "source": [
    "## Création d'une fonction plus générique  ?"
   ]
  },
  {
   "cell_type": "markdown",
   "metadata": {},
   "source": [
    "Cela revient à définir un nombre non pas uniquement par sa valeur exacte mais par sa valeur et une incertitude absolue.\n",
    "Il y a certainement une librairie qui traite de cela. "
   ]
  }
 ],
 "metadata": {
  "kernelspec": {
   "display_name": "Python 3",
   "language": "python",
   "name": "python3"
  },
  "language_info": {
   "codemirror_mode": {
    "name": "ipython",
    "version": 3
   },
   "file_extension": ".py",
   "mimetype": "text/x-python",
   "name": "python",
   "nbconvert_exporter": "python",
   "pygments_lexer": "ipython3",
   "version": "3.5.2"
  }
 },
 "nbformat": 4,
 "nbformat_minor": 1
}
